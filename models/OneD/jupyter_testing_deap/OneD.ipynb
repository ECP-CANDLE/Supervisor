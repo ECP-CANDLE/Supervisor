{
 "cells": [
  {
   "cell_type": "code",
   "execution_count": 1,
   "metadata": {
    "colab": {
     "base_uri": "https://localhost:8080/"
    },
    "id": "SeSvmfvlnCuu",
    "outputId": "b61aea08-1d31-497a-d089-71e6f5c8f9a6"
   },
   "outputs": [
    {
     "name": "stdout",
     "output_type": "stream",
     "text": [
      "Requirement already satisfied: deap in c:\\users\\rylie\\conda\\lib\\site-packages (1.3.3)\n",
      "Requirement already satisfied: numpy in c:\\users\\rylie\\conda\\lib\\site-packages (from deap) (1.23.5)\n"
     ]
    }
   ],
   "source": [
    "!pip install deap"
   ]
  },
  {
   "cell_type": "code",
   "execution_count": 2,
   "metadata": {
    "id": "BBNFZ7c8oZ9P"
   },
   "outputs": [],
   "source": [
    "import random\n",
    "from deap import base, creator, tools, algorithms\n",
    "import numpy as np\n",
    "import matplotlib.pyplot as plt"
   ]
  },
  {
   "cell_type": "code",
   "execution_count": 18,
   "metadata": {
    "colab": {
     "base_uri": "https://localhost:8080/"
    },
    "id": "R5Ox6PdjoUYt",
    "outputId": "876d2e98-a66b-4022-a8bf-9de9c181269e"
   },
   "outputs": [
    {
     "name": "stderr",
     "output_type": "stream",
     "text": [
      "C:\\Users\\rylie\\conda\\lib\\site-packages\\deap\\creator.py:138: RuntimeWarning: A class named 'FitnessMin' has already been created and it will be overwritten. Consider deleting previous creation of that class or rename it.\n",
      "  warnings.warn(\"A class named '{0}' has already been created and it \"\n",
      "C:\\Users\\rylie\\conda\\lib\\site-packages\\deap\\creator.py:138: RuntimeWarning: A class named 'Individual' has already been created and it will be overwritten. Consider deleting previous creation of that class or rename it.\n",
      "  warnings.warn(\"A class named '{0}' has already been created and it \"\n"
     ]
    }
   ],
   "source": [
    "params = []\n",
    "fitnesses = []\n",
    "\n",
    "def fitness(individual):\n",
    "    x = individual[0]\n",
    "    y = 0.02 * x + 0.5 * np.sin(1 * x + 0.1) + 0.75 * np.cos(0.25 * x - 0.3)\n",
    "\n",
    "    # Log the parameters and fitness for plotting\n",
    "    params.append(x)\n",
    "    fitnesses.append(y)\n",
    "\n",
    "    return y,\n",
    "\n",
    "# Define the individual and the population\n",
    "creator.create(\"FitnessMin\", base.Fitness, weights=(-1.0,))\n",
    "creator.create(\"Individual\", list, fitness=creator.FitnessMin)\n",
    "\n",
    "toolbox = base.Toolbox()\n",
    "toolbox.register(\"attr_float\", random.uniform, 0, 20)  # Create random numbers between 0 and 20\n",
    "toolbox.register(\"individual\", tools.initRepeat, creator.Individual, toolbox.attr_float, n=1)\n",
    "toolbox.register(\"population\", tools.initRepeat, list, toolbox.individual)\n",
    "\n",
    "# Define the evaluation function\n",
    "toolbox.register(\"evaluate\", fitness)\n",
    "\n",
    "# Make decorator to keep mutation within bounds\n",
    "def checkBounds(min, max):\n",
    "    def decorator(func):\n",
    "        def wrapper(*args, **kargs):\n",
    "            offspring = func(*args, **kargs)\n",
    "            for child in offspring:\n",
    "                for i in range(len(child)):\n",
    "                    if child[i] > max:\n",
    "                        child[i] = max\n",
    "                    elif child[i] < min:\n",
    "                        child[i] = min\n",
    "            return offspring\n",
    "        return wrapper\n",
    "    return decorator\n",
    "\n",
    "toolbox.register(\"mutate\", tools.mutGaussian, mu=0, sigma=3, indpb=1)  # Gaussian mutation\n",
    "toolbox.decorate(\"mutate\", checkBounds(0, 20))  # Keep mutation within bounds\n",
    "toolbox.register(\"mate\", tools.cxUniform, indpb=0.5)  # indpb is the probability of each attribute to be exchanged\n",
    "toolbox.register(\"select\", tools.selTournament, tournsize=4) # Selection operator"
   ]
  },
  {
   "cell_type": "code",
   "execution_count": 19,
   "metadata": {
    "colab": {
     "base_uri": "https://localhost:8080/"
    },
    "id": "3_7gJVqv8XJH",
    "outputId": "d95cf34d-6d5f-490b-b7e7-9a68c9af6c52"
   },
   "outputs": [
    {
     "name": "stdout",
     "output_type": "stream",
     "text": [
      "gen\tnevals\tavg      \tstd    \tmin      \tmax    \n",
      "0  \t16    \t-0.239393\t0.64282\t-0.836652\t1.22287\n",
      "1  \t8     \t-0.71627 \t0.119104\t-0.854692\t-0.434619\n",
      "2  \t8     \t-0.790607\t0.0830298\t-0.855931\t-0.620771\n",
      "3  \t8     \t-0.851697\t0.00724757\t-0.855931\t-0.836652\n",
      "4  \t8     \t-0.833447\t0.0838845 \t-0.855931\t-0.508571\n",
      "5  \t8     \t-0.853516\t0.00682179\t-0.855931\t-0.827197\n",
      "Best individual is: 11.08778916223013\n",
      "With fitness: -0.8570673616280142\n"
     ]
    }
   ],
   "source": [
    "def main():\n",
    "    # Create initial population\n",
    "    pop = toolbox.population(n=16)\n",
    "    hof = tools.HallOfFame(1)\n",
    "    stats = tools.Statistics(lambda ind: ind.fitness.values)\n",
    "    stats.register(\"avg\", np.mean)\n",
    "    stats.register(\"std\", np.std)\n",
    "    stats.register(\"min\", np.min)\n",
    "    stats.register(\"max\", np.max)\n",
    "\n",
    "    # Parameters for the mu+lambda algorithm\n",
    "    mu = len(pop)\n",
    "    lambda_ = round(0.5*len(pop)) # Offspring is half the size of population\n",
    "\n",
    "    pop, log = algorithms.eaMuPlusLambda(pop, toolbox, mu, lambda_, cxpb=0, mutpb=1,  # mutpb, cxpb is the mutation and crossover probability\n",
    "                                         ngen=4, stats=stats, halloffame=hof, verbose=True)\n",
    "\n",
    "    return pop, log, hof\n",
    "\n",
    "pop, log, hof = main()\n",
    "\n",
    "# Print best individual\n",
    "best_ind = (hof[0][0], hof[0].fitness.values[0])\n",
    "print(\"Best individual is: %s\\nWith fitness: %s\" % best_individual)"
   ]
  },
  {
   "cell_type": "code",
   "execution_count": 20,
   "metadata": {
    "id": "6KbhUW6G9Yq9"
   },
   "outputs": [],
   "source": [
    "# Create plotting variables\n",
    "x = np.linspace(0, 20, 100)\n",
    "y = 0.02 * x + 0.5 * np.sin(1 * x + 0.1) + 0.75 * np.cos(0.25 * x - 0.3)"
   ]
  },
  {
   "cell_type": "code",
   "execution_count": 22,
   "metadata": {
    "colab": {
     "base_uri": "https://localhost:8080/",
     "height": 448
    },
    "id": "5bLrKDFoCQNK",
    "outputId": "bcd1a73a-5a60-4d19-fbe9-868503d068e9",
    "scrolled": false
   },
   "outputs": [
    {
     "name": "stdout",
     "output_type": "stream",
     "text": [
      "The local minima (x,y) values are: [(4.873, 0.0698), (11.089, -0.8571), (16.871, -0.6743)]\n",
      "\n",
      "Compare these to the best individual from the genetic algorithm: (11.155217585328622, -0.8559314253393073)\n"
     ]
    },
    {
     "data": {
      "image/png": "[encoded data removed]",
      "text/plain": [
       "<Figure size 640x480 with 1 Axes>"
      ]
     },
     "metadata": {},
     "output_type": "display_data"
    }
   ],
   "source": [
    "# Visualize\n",
    "# To see specific generations, slice plt.scatter such as with \n",
    "# plt.scatter(params[-8:], fitnesses[-8:], c='orange')\n",
    "loc_mins = [(4.873, 0.0698), (11.089, -0.8571), (16.871, -0.6743)]\n",
    "print(f'The local minima (x,y) values are: {loc_mins}')\n",
    "print(f'\\nCompare these to the best individual from the genetic algorithm: {best_ind}')\n",
    "plt.scatter(params, fitnesses, c='orange')\n",
    "plt.plot(x,y)\n",
    "plt.show()"
   ]
  }
 ],
 "metadata": {
  "colab": {
   "provenance": []
  },
  "kernelspec": {
   "display_name": "Python 3 (ipykernel)",
   "language": "python",
   "name": "python3"
  },
  "language_info": {
   "codemirror_mode": {
    "name": "ipython",
    "version": 3
   },
   "file_extension": ".py",
   "mimetype": "text/x-python",
   "name": "python",
   "nbconvert_exporter": "python",
   "pygments_lexer": "ipython3",
   "version": "3.10.9"
  }
 },
 "nbformat": 4,
 "nbformat_minor": 1
}
