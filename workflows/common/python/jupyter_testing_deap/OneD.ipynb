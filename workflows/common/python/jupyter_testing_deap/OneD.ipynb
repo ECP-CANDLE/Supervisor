{
 "cells": [
  {
   "cell_type": "code",
   "execution_count": 1,
   "id": "2d091722",
   "metadata": {},
   "outputs": [
    {
     "name": "stdout",
     "output_type": "stream",
     "text": [
      "Collecting deap\n",
      "  Downloading deap-1.3.3-cp310-cp310-win_amd64.whl (114 kB)\n",
      "     -------------------------------------- 114.3/114.3 kB 6.9 MB/s eta 0:00:00\n",
      "Requirement already satisfied: numpy in c:\\users\\rylie\\conda\\lib\\site-packages (from deap) (1.23.5)\n",
      "Installing collected packages: deap\n",
      "Successfully installed deap-1.3.3\n"
     ]
    }
   ],
   "source": [
    "!pip install deap"
   ]
  },
  {
   "cell_type": "code",
   "execution_count": 2,
   "id": "1fc98f20",
   "metadata": {},
   "outputs": [],
   "source": [
    "import random\n",
    "from deap import base, creator, tools, algorithms\n",
    "import numpy as np"
   ]
  },
  {
   "cell_type": "code",
   "execution_count": 3,
   "id": "1abcc819",
   "metadata": {},
   "outputs": [],
   "source": [
    "# Define the fitness function (to be minimized)\n",
    "def fitness(individual):\n",
    "    x = individual[0]\n",
    "    y = 0.02 * x + 0.5 * np.sin(1 * x + 0.1) + 0.75 * np.cos(0.25 * x - 0.3)\n",
    "    return y,\n",
    "\n",
    "# Define the individual and the population\n",
    "creator.create(\"FitnessMin\", base.Fitness, weights=(-1.0,))\n",
    "creator.create(\"Individual\", list, fitness=creator.FitnessMin)\n",
    "\n",
    "toolbox = base.Toolbox()\n",
    "toolbox.register(\"attr_float\", random.uniform, 0, 20)  # Create random numbers between 0 and 20\n",
    "toolbox.register(\"individual\", tools.initRepeat, creator.Individual, toolbox.attr_float, n=1)\n",
    "toolbox.register(\"population\", tools.initRepeat, list, toolbox.individual)\n",
    "\n",
    "# Define the evaluation function\n",
    "toolbox.register(\"evaluate\", fitness)\n",
    "\n",
    "# Define the mutation operator\n",
    "def checkBounds(min, max):\n",
    "    def decorator(func):\n",
    "        def wrapper(*args, **kargs):\n",
    "            offspring = func(*args, **kargs)\n",
    "            for child in offspring:\n",
    "                for i in range(len(child)):\n",
    "                    if child[i] > max:\n",
    "                        child[i] = max\n",
    "                    elif child[i] < min:\n",
    "                        child[i] = min\n",
    "            return offspring\n",
    "        return wrapper\n",
    "    return decorator\n",
    "\n",
    "toolbox.register(\"mutate\", tools.mutGaussian, mu=0, sigma=3, indpb=1)  # Gaussian mutation\n",
    "toolbox.decorate(\"mutate\", checkBounds(0, 20))  # Keep mutation within bounds\n",
    "toolbox.register(\"mate\", tools.cxUniform, indpb=0.5)  # indpb is the probability of each attribute to be exchanged\n",
    "# Define the selection operator\n",
    "toolbox.register(\"select\", tools.selTournament, tournsize=4)"
   ]
  },
  {
   "cell_type": "code",
   "execution_count": 7,
   "id": "ee0a54a7",
   "metadata": {},
   "outputs": [
    {
     "name": "stdout",
     "output_type": "stream",
     "text": [
      "gen\tnevals\tavg      \tstd     \tmin      \tmax     \n",
      "0  \t8     \t-0.280768\t0.422646\t-0.857068\t0.604022\n",
      "1  \t4     \t-0.602412\t0.261912\t-0.857068\t-0.000351593\n",
      "2  \t4     \t-0.836464\t0.0376358\t-0.857068\t-0.743563   \n",
      "3  \t4     \t-0.857068\t0        \t-0.857068\t-0.857068   \n",
      "4  \t4     \t-0.857068\t0        \t-0.857068\t-0.857068   \n",
      "5  \t4     \t-0.857068\t0        \t-0.857068\t-0.857068   \n",
      "6  \t4     \t-0.857068\t0        \t-0.857068\t-0.857068   \n",
      "7  \t4     \t-0.857068\t0        \t-0.857068\t-0.857068   \n",
      "8  \t4     \t-0.806475\t0.133857 \t-0.857068\t-0.452324   \n",
      "9  \t4     \t-0.857068\t0        \t-0.857068\t-0.857068   \n",
      "10 \t4     \t-0.857068\t0        \t-0.857068\t-0.857068   \n",
      "11 \t4     \t-0.857068\t0        \t-0.857068\t-0.857068   \n",
      "12 \t4     \t-0.857068\t0        \t-0.857068\t-0.857068   \n",
      "Best individual is: [11.0891575329225]\n",
      "with fitness: (-0.857068052808809,)\n"
     ]
    }
   ],
   "source": [
    "def main():\n",
    "    # Create initial population\n",
    "    pop = toolbox.population(n=8)\n",
    "    hof = tools.HallOfFame(1)\n",
    "    stats = tools.Statistics(lambda ind: ind.fitness.values)\n",
    "    stats.register(\"avg\", np.mean)\n",
    "    stats.register(\"std\", np.std)\n",
    "    stats.register(\"min\", np.min)\n",
    "    stats.register(\"max\", np.max)\n",
    "\n",
    "    # Parameters for the mu+lambda algorithm\n",
    "    mu = len(pop)\n",
    "    lambda_ = round(0.5*len(pop))\n",
    "\n",
    "    pop, log = algorithms.eaMuPlusLambda(pop, toolbox, mu, lambda_, cxpb=0, mutpb=1,  # cxpb is the crossover probability\n",
    "                                         ngen=12, stats=stats, halloffame=hof, verbose=True)\n",
    "\n",
    "    return pop, log, hof\n",
    "\n",
    "pop, log, hof = main()\n",
    "\n",
    "# Print best individual\n",
    "print(\"Best individual is: %s\\nwith fitness: %s\" % (hof[0], hof[0].fitness))\n"
   ]
  },
  {
   "cell_type": "code",
   "execution_count": null,
   "id": "ba00a232",
   "metadata": {},
   "outputs": [],
   "source": []
  }
 ],
 "metadata": {
  "kernelspec": {
   "display_name": "Python 3 (ipykernel)",
   "language": "python",
   "name": "python3"
  },
  "language_info": {
   "codemirror_mode": {
    "name": "ipython",
    "version": 3
   },
   "file_extension": ".py",
   "mimetype": "text/x-python",
   "name": "python",
   "nbconvert_exporter": "python",
   "pygments_lexer": "ipython3",
   "version": "3.10.9"
  }
 },
 "nbformat": 4,
 "nbformat_minor": 5
}
